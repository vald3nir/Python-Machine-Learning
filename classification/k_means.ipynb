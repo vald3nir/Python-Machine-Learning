{
 "cells": [
  {
   "cell_type": "code",
   "execution_count": 78,
   "metadata": {},
   "outputs": [],
   "source": [
    "import matplotlib.pyplot as plt\n",
    "import pandas as pd"
   ]
  },
  {
   "cell_type": "markdown",
   "metadata": {},
   "source": [
    "### Leitura dos dados"
   ]
  },
  {
   "cell_type": "code",
   "execution_count": 79,
   "metadata": {},
   "outputs": [
    {
     "data": {
      "text/plain": "   CustomerID  Gender  Age  Annual Income (k$)  Spending Score (1-100)\n0           1    Male   19                  15                      39\n1           2    Male   21                  15                      81\n2           3  Female   20                  16                       6\n3           4  Female   23                  16                      77\n4           5  Female   31                  17                      40",
      "text/html": "<div>\n<style scoped>\n    .dataframe tbody tr th:only-of-type {\n        vertical-align: middle;\n    }\n\n    .dataframe tbody tr th {\n        vertical-align: top;\n    }\n\n    .dataframe thead th {\n        text-align: right;\n    }\n</style>\n<table border=\"1\" class=\"dataframe\">\n  <thead>\n    <tr style=\"text-align: right;\">\n      <th></th>\n      <th>CustomerID</th>\n      <th>Gender</th>\n      <th>Age</th>\n      <th>Annual Income (k$)</th>\n      <th>Spending Score (1-100)</th>\n    </tr>\n  </thead>\n  <tbody>\n    <tr>\n      <th>0</th>\n      <td>1</td>\n      <td>Male</td>\n      <td>19</td>\n      <td>15</td>\n      <td>39</td>\n    </tr>\n    <tr>\n      <th>1</th>\n      <td>2</td>\n      <td>Male</td>\n      <td>21</td>\n      <td>15</td>\n      <td>81</td>\n    </tr>\n    <tr>\n      <th>2</th>\n      <td>3</td>\n      <td>Female</td>\n      <td>20</td>\n      <td>16</td>\n      <td>6</td>\n    </tr>\n    <tr>\n      <th>3</th>\n      <td>4</td>\n      <td>Female</td>\n      <td>23</td>\n      <td>16</td>\n      <td>77</td>\n    </tr>\n    <tr>\n      <th>4</th>\n      <td>5</td>\n      <td>Female</td>\n      <td>31</td>\n      <td>17</td>\n      <td>40</td>\n    </tr>\n  </tbody>\n</table>\n</div>"
     },
     "execution_count": 79,
     "metadata": {},
     "output_type": "execute_result"
    }
   ],
   "source": [
    "df = pd.read_csv('Mall_Customers.csv')\n",
    "df.head()"
   ]
  },
  {
   "cell_type": "code",
   "execution_count": 80,
   "metadata": {},
   "outputs": [
    {
     "data": {
      "text/plain": "(200, 5)"
     },
     "execution_count": 80,
     "metadata": {},
     "output_type": "execute_result"
    }
   ],
   "source": [
    "df.shape"
   ]
  },
  {
   "cell_type": "markdown",
   "metadata": {},
   "source": [
    "### Verificar dados nulos"
   ]
  },
  {
   "cell_type": "code",
   "execution_count": 81,
   "metadata": {},
   "outputs": [
    {
     "data": {
      "text/plain": "CustomerID                0\nGender                    0\nAge                       0\nAnnual Income (k$)        0\nSpending Score (1-100)    0\ndtype: int64"
     },
     "execution_count": 81,
     "metadata": {},
     "output_type": "execute_result"
    }
   ],
   "source": [
    "df.isnull().sum()"
   ]
  },
  {
   "cell_type": "markdown",
   "metadata": {},
   "source": [
    "### Informações estatísticas"
   ]
  },
  {
   "cell_type": "code",
   "execution_count": 82,
   "metadata": {},
   "outputs": [
    {
     "data": {
      "text/plain": "       CustomerID         Age  Annual Income (k$)  Spending Score (1-100)\ncount  200.000000  200.000000          200.000000              200.000000\nmean   100.500000   38.850000           60.560000               50.200000\nstd     57.879185   13.969007           26.264721               25.823522\nmin      1.000000   18.000000           15.000000                1.000000\n25%     50.750000   28.750000           41.500000               34.750000\n50%    100.500000   36.000000           61.500000               50.000000\n75%    150.250000   49.000000           78.000000               73.000000\nmax    200.000000   70.000000          137.000000               99.000000",
      "text/html": "<div>\n<style scoped>\n    .dataframe tbody tr th:only-of-type {\n        vertical-align: middle;\n    }\n\n    .dataframe tbody tr th {\n        vertical-align: top;\n    }\n\n    .dataframe thead th {\n        text-align: right;\n    }\n</style>\n<table border=\"1\" class=\"dataframe\">\n  <thead>\n    <tr style=\"text-align: right;\">\n      <th></th>\n      <th>CustomerID</th>\n      <th>Age</th>\n      <th>Annual Income (k$)</th>\n      <th>Spending Score (1-100)</th>\n    </tr>\n  </thead>\n  <tbody>\n    <tr>\n      <th>count</th>\n      <td>200.000000</td>\n      <td>200.000000</td>\n      <td>200.000000</td>\n      <td>200.000000</td>\n    </tr>\n    <tr>\n      <th>mean</th>\n      <td>100.500000</td>\n      <td>38.850000</td>\n      <td>60.560000</td>\n      <td>50.200000</td>\n    </tr>\n    <tr>\n      <th>std</th>\n      <td>57.879185</td>\n      <td>13.969007</td>\n      <td>26.264721</td>\n      <td>25.823522</td>\n    </tr>\n    <tr>\n      <th>min</th>\n      <td>1.000000</td>\n      <td>18.000000</td>\n      <td>15.000000</td>\n      <td>1.000000</td>\n    </tr>\n    <tr>\n      <th>25%</th>\n      <td>50.750000</td>\n      <td>28.750000</td>\n      <td>41.500000</td>\n      <td>34.750000</td>\n    </tr>\n    <tr>\n      <th>50%</th>\n      <td>100.500000</td>\n      <td>36.000000</td>\n      <td>61.500000</td>\n      <td>50.000000</td>\n    </tr>\n    <tr>\n      <th>75%</th>\n      <td>150.250000</td>\n      <td>49.000000</td>\n      <td>78.000000</td>\n      <td>73.000000</td>\n    </tr>\n    <tr>\n      <th>max</th>\n      <td>200.000000</td>\n      <td>70.000000</td>\n      <td>137.000000</td>\n      <td>99.000000</td>\n    </tr>\n  </tbody>\n</table>\n</div>"
     },
     "execution_count": 82,
     "metadata": {},
     "output_type": "execute_result"
    }
   ],
   "source": [
    "df.describe()"
   ]
  },
  {
   "cell_type": "markdown",
   "metadata": {},
   "source": [
    "### Gerando gráfico da idade versus score do cliente"
   ]
  },
  {
   "cell_type": "code",
   "execution_count": 83,
   "metadata": {},
   "outputs": [
    {
     "data": {
      "text/plain": "<Figure size 432x288 with 1 Axes>",
      "image/png": "[encoded data removed]"
     },
     "metadata": {
      "needs_background": "light"
     },
     "output_type": "display_data"
    }
   ],
   "source": [
    "plt.scatter(df['Age'], df['Spending Score (1-100)'], s=50)\n",
    "plt.xlabel('Idade')\n",
    "plt.ylabel('Score (1-100)')\n",
    "plt.show()"
   ]
  },
  {
   "cell_type": "markdown",
   "metadata": {},
   "source": [
    "Selecione os dados de 'Age' e 'Spending Score (1-100)' no dataframe para realizar o agrupamento com kmeans"
   ]
  },
  {
   "cell_type": "code",
   "execution_count": 84,
   "metadata": {},
   "outputs": [
    {
     "data": {
      "text/plain": "   Age  Spending Score (1-100)\n0   19                      39\n1   21                      81\n2   20                       6\n3   23                      77\n4   31                      40",
      "text/html": "<div>\n<style scoped>\n    .dataframe tbody tr th:only-of-type {\n        vertical-align: middle;\n    }\n\n    .dataframe tbody tr th {\n        vertical-align: top;\n    }\n\n    .dataframe thead th {\n        text-align: right;\n    }\n</style>\n<table border=\"1\" class=\"dataframe\">\n  <thead>\n    <tr style=\"text-align: right;\">\n      <th></th>\n      <th>Age</th>\n      <th>Spending Score (1-100)</th>\n    </tr>\n  </thead>\n  <tbody>\n    <tr>\n      <th>0</th>\n      <td>19</td>\n      <td>39</td>\n    </tr>\n    <tr>\n      <th>1</th>\n      <td>21</td>\n      <td>81</td>\n    </tr>\n    <tr>\n      <th>2</th>\n      <td>20</td>\n      <td>6</td>\n    </tr>\n    <tr>\n      <th>3</th>\n      <td>23</td>\n      <td>77</td>\n    </tr>\n    <tr>\n      <th>4</th>\n      <td>31</td>\n      <td>40</td>\n    </tr>\n  </tbody>\n</table>\n</div>"
     },
     "execution_count": 84,
     "metadata": {},
     "output_type": "execute_result"
    }
   ],
   "source": [
    "# selecione no dataframe df as colunas Age e Spending Score (1-100)\n",
    "dataset = df[['Age', 'Spending Score (1-100)']]\n",
    "dataset.head()"
   ]
  },
  {
   "cell_type": "markdown",
   "metadata": {},
   "source": [
    "### Clusterizando com k = 5"
   ]
  },
  {
   "cell_type": "code",
   "execution_count": 85,
   "metadata": {},
   "outputs": [
    {
     "name": "stdout",
     "output_type": "stream",
     "text": [
      "     Age  Spending Score (1-100)\n",
      "1     21                      81\n",
      "3     23                      77\n",
      "5     22                      76\n",
      "7     23                      94\n",
      "9     30                      72\n",
      "11    35                      99\n",
      "13    24                      77\n",
      "15    22                      79\n",
      "19    35                      98\n",
      "21    25                      73\n",
      "23    31                      73\n",
      "25    29                      82\n",
      "29    23                      87\n",
      "31    21                      73\n",
      "33    18                      92\n",
      "35    21                      81\n",
      "37    30                      73\n",
      "39    20                      75\n",
      "41    24                      92\n",
      "123   39                      91\n",
      "125   31                      77\n",
      "127   40                      95\n",
      "129   38                      75\n",
      "131   39                      75\n",
      "133   31                      71\n",
      "135   29                      88\n",
      "137   32                      73\n",
      "139   35                      72\n",
      "141   32                      93\n",
      "143   32                      87\n",
      "145   28                      97\n",
      "147   32                      74\n",
      "149   34                      90\n",
      "151   39                      88\n",
      "153   38                      76\n",
      "155   27                      89\n",
      "157   30                      78\n",
      "159   30                      73\n",
      "161   29                      83\n",
      "163   31                      93\n",
      "165   36                      75\n",
      "167   33                      95\n",
      "171   28                      75\n",
      "173   36                      92\n",
      "175   30                      86\n",
      "177   27                      69\n",
      "179   35                      90\n",
      "181   32                      86\n",
      "183   29                      88\n",
      "185   30                      97\n",
      "187   28                      68\n",
      "189   36                      85\n",
      "191   32                      69\n",
      "193   38                      91\n",
      "195   35                      79\n",
      "197   32                      74\n",
      "199   30                      83\n"
     ]
    }
   ],
   "source": [
    "# Importando K-means\n",
    "from sklearn.cluster import KMeans\n",
    "\n",
    "# clusterizando com k = 5\n",
    "modelo_kmeans = KMeans(n_clusters=5, init='k-means++')\n",
    "y_kmeans = modelo_kmeans.fit_predict(dataset)\n",
    "\n",
    "# visualizando o primeiro grupo criado\n",
    "print(dataset[y_kmeans == 0])"
   ]
  },
  {
   "cell_type": "markdown",
   "metadata": {},
   "source": [
    "### Visualizando todos os grupos"
   ]
  },
  {
   "cell_type": "code",
   "execution_count": 86,
   "metadata": {},
   "outputs": [
    {
     "data": {
      "text/plain": "<Figure size 432x288 with 1 Axes>",
      "image/png": "[encoded data removed]"
     },
     "metadata": {
      "needs_background": "light"
     },
     "output_type": "display_data"
    }
   ],
   "source": [
    "k_grupos = 5\n",
    "cores = ['r', 'b', 'k', 'y', 'g']\n",
    "for k in range(k_grupos):\n",
    "    cluster = dataset[y_kmeans == k]\n",
    "    plt.scatter(cluster['Age'],\n",
    "                cluster['Spending Score (1-100)'],\n",
    "                s=100,\n",
    "                c=cores[k],\n",
    "                label=f'Cluster {k}'\n",
    "                )\n",
    "\n",
    "plt.title('Grupos de clientes')\n",
    "plt.xlabel('Age')\n",
    "plt.ylabel('Score (1-100)')\n",
    "plt.grid()\n",
    "plt.legend()\n",
    "plt.show()"
   ]
  }
 ],
 "metadata": {
  "kernelspec": {
   "display_name": "Python 3",
   "language": "python",
   "name": "python3"
  },
  "language_info": {
   "codemirror_mode": {
    "name": "ipython",
    "version": 3
   },
   "file_extension": ".py",
   "mimetype": "text/x-python",
   "name": "python",
   "nbconvert_exporter": "python",
   "pygments_lexer": "ipython3",
   "version": "3.7.7"
  }
 },
 "nbformat": 4,
 "nbformat_minor": 4
}
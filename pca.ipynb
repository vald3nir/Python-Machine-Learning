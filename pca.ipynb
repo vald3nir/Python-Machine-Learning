{
 "cells": [
  {
   "cell_type": "markdown",
   "id": "2994a31a",
   "metadata": {},
   "source": [
    "## Principal Component Analysis"
   ]
  },
  {
   "cell_type": "markdown",
   "id": "11f4cc41",
   "metadata": {},
   "source": [
    "### Objetivos:\n",
    "##### Visualização dos dados\n",
    "##### Redução da complexidade de modelos de Aprendizado de Máquina\n",
    "### Uma das principais informações utilizadas será a variância dos dados\n",
    "##### Transformação linear\n",
    "##### Novos atributos são uma combinação linear dos atributos originais"
   ]
  },
  {
   "cell_type": "markdown",
   "id": "517ba016",
   "metadata": {},
   "source": [
    "### Passos do PCA\n",
    "##### Toma os dados de entrada\n",
    "##### Subtração das médias e divisão pelo desvio padrão - Padronização (Standardization)\n",
    "##### Cálculo da matriz de covariância\n",
    "##### Cálculo dos autovalores e autovetores\n",
    "##### Seleção dos k maiores autovalores\n",
    "##### Multiplicação da transposta dos k autovetores pela transposta do conjunto de dados original padronizado (standardized)\n",
    "##### Novo conjunto de dados"
   ]
  },
  {
   "cell_type": "code",
   "execution_count": 2,
   "id": "2bcdda1e",
   "metadata": {},
   "outputs": [],
   "source": [
    "import matplotlib.pyplot as plt\n",
    "from sklearn.datasets import load_boston\n",
    "from sklearn.decomposition import PCA\n",
    "from sklearn.linear_model import LinearRegression\n",
    "from sklearn.model_selection import train_test_split"
   ]
  },
  {
   "cell_type": "code",
   "execution_count": 3,
   "id": "99f095c3",
   "metadata": {},
   "outputs": [
    {
     "data": {
      "text/plain": [
       "(506, 13)"
      ]
     },
     "execution_count": 3,
     "metadata": {},
     "output_type": "execute_result"
    }
   ],
   "source": [
    "X, y = load_boston(return_X_y=True)\n",
    "X.shape"
   ]
  },
  {
   "cell_type": "code",
   "execution_count": 4,
   "id": "fc01f181",
   "metadata": {},
   "outputs": [
    {
     "data": {
      "text/plain": [
       "(506, 10)"
      ]
     },
     "execution_count": 4,
     "metadata": {},
     "output_type": "execute_result"
    }
   ],
   "source": [
    "pca = PCA(n_components=10)\n",
    "X_pca = pca.fit_transform(X)\n",
    "X_pca.shape"
   ]
  },
  {
   "cell_type": "code",
   "execution_count": 5,
   "id": "a2b82ba6",
   "metadata": {},
   "outputs": [
    {
     "data": {
      "image/png": "[encoded data removed]",
      "text/plain": [
       "<Figure size 432x288 with 1 Axes>"
      ]
     },
     "metadata": {
      "needs_background": "light"
     },
     "output_type": "display_data"
    }
   ],
   "source": [
    "plt.scatter(X_pca[:, 0], X_pca[:, 1])\n",
    "plt.show()"
   ]
  },
  {
   "cell_type": "code",
   "execution_count": 6,
   "id": "86021d1c",
   "metadata": {},
   "outputs": [],
   "source": [
    "X_train, X_test, y_train, y_test = train_test_split(X_pca, y)"
   ]
  },
  {
   "cell_type": "code",
   "execution_count": 7,
   "id": "963a8af5",
   "metadata": {},
   "outputs": [
    {
     "data": {
      "text/plain": [
       "0.672692406873505"
      ]
     },
     "execution_count": 7,
     "metadata": {},
     "output_type": "execute_result"
    }
   ],
   "source": [
    "lr = LinearRegression()\n",
    "lr.fit(X_train, y_train)\n",
    "lr.score(X_test, y_test)"
   ]
  }
 ],
 "metadata": {
  "kernelspec": {
   "display_name": "Python 3 (ipykernel)",
   "language": "python",
   "name": "python3"
  },
  "language_info": {
   "codemirror_mode": {
    "name": "ipython",
    "version": 3
   },
   "file_extension": ".py",
   "mimetype": "text/x-python",
   "name": "python",
   "nbconvert_exporter": "python",
   "pygments_lexer": "ipython3",
   "version": "3.9.5"
  }
 },
 "nbformat": 4,
 "nbformat_minor": 5
}
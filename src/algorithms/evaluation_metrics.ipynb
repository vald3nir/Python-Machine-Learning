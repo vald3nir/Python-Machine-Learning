{
 "cells": [
  {
   "cell_type": "markdown",
   "id": "15087c5a",
   "metadata": {},
   "source": [
    "### Métricas de Avaliação"
   ]
  },
  {
   "cell_type": "markdown",
   "id": "719812f2",
   "metadata": {},
   "source": [
    "### Regressor dummy\n",
    "#### Tipos\n",
    "##### Média dos rótulos de treinamento (mean)\n",
    "##### Mediana das saídas do treinamento (median)\n",
    "##### Quartil das saídas de treinamento. 0 para mínimo, 0.5 para média e 1 para máximo (quantile)\n",
    "##### Constante e configurado pelo usuário (constant)"
   ]
  },
  {
   "cell_type": "code",
   "execution_count": 1,
   "id": "ff269aec",
   "metadata": {},
   "outputs": [],
   "source": [
    "from sklearn.datasets import load_iris, load_boston\n",
    "from sklearn.dummy import DummyClassifier, DummyRegressor"
   ]
  },
  {
   "cell_type": "code",
   "execution_count": 2,
   "id": "ce87796b",
   "metadata": {},
   "outputs": [
    {
     "data": {
      "text/plain": [
       "0.3"
      ]
     },
     "execution_count": 2,
     "metadata": {},
     "output_type": "execute_result"
    }
   ],
   "source": [
    "X, y = load_iris(return_X_y=True)\n",
    "dc = DummyClassifier(strategy='stratified')\n",
    "dc.fit(X, y)\n",
    "dc.score(X, y)"
   ]
  },
  {
   "cell_type": "code",
   "execution_count": 3,
   "id": "7775bfa0",
   "metadata": {},
   "outputs": [
    {
     "data": {
      "text/plain": [
       "0.0"
      ]
     },
     "execution_count": 3,
     "metadata": {},
     "output_type": "execute_result"
    }
   ],
   "source": [
    "X, y = load_boston(return_X_y=True)\n",
    "dr = DummyRegressor(strategy='mean')\n",
    "dr.fit(X, y)\n",
    "dr.score(X, y)"
   ]
  },
  {
   "cell_type": "markdown",
   "id": "c08ca233",
   "metadata": {},
   "source": [
    "### Matriz de confusão"
   ]
  },
  {
   "cell_type": "code",
   "execution_count": 4,
   "id": "e9bd15fb",
   "metadata": {},
   "outputs": [],
   "source": [
    "from sklearn.dummy import DummyClassifier\n",
    "from sklearn.datasets import load_breast_cancer\n",
    "from sklearn.metrics import confusion_matrix, classification_report"
   ]
  },
  {
   "cell_type": "code",
   "execution_count": 5,
   "id": "42b2c803",
   "metadata": {},
   "outputs": [
    {
     "data": {
      "text/plain": [
       "array([[ 68, 144],\n",
       "       [137, 220]], dtype=int64)"
      ]
     },
     "execution_count": 5,
     "metadata": {},
     "output_type": "execute_result"
    }
   ],
   "source": [
    "X, y = load_breast_cancer(return_X_y=True)\n",
    "dc = DummyClassifier(strategy='stratified')\n",
    "dc.fit(X, y)\n",
    "confusion_matrix(y, dc.predict(X))"
   ]
  },
  {
   "cell_type": "markdown",
   "id": "7c46d1a2",
   "metadata": {},
   "source": [
    "#### Recall (Sensitividade)\n",
    "##### Útil para aplicações médicas\n",
    "###### Verdadeiros positivos / (Verdadeiros positivos + Falsos negativos)\n",
    "#### Precisão\n",
    "##### Útil para sistemas de recomendação\n",
    "###### Verdadeiros positivos / (Verdadeiros positivos + Falsos positivos)"
   ]
  },
  {
   "cell_type": "code",
   "execution_count": 6,
   "id": "96f52d07",
   "metadata": {},
   "outputs": [
    {
     "name": "stdout",
     "output_type": "stream",
     "text": [
      "              precision    recall  f1-score   support\n",
      "\n",
      "           0       0.39      0.39      0.39       212\n",
      "           1       0.64      0.64      0.64       357\n",
      "\n",
      "    accuracy                           0.55       569\n",
      "   macro avg       0.52      0.52      0.52       569\n",
      "weighted avg       0.55      0.55      0.55       569\n",
      "\n"
     ]
    }
   ],
   "source": [
    "print(classification_report(y, dc.predict(X)))"
   ]
  },
  {
   "cell_type": "markdown",
   "id": "4e768a87",
   "metadata": {},
   "source": [
    "### Validação cruzada"
   ]
  },
  {
   "cell_type": "code",
   "execution_count": 7,
   "id": "d9ff8aaf",
   "metadata": {},
   "outputs": [],
   "source": [
    "from sklearn.dummy import DummyClassifier\n",
    "from sklearn.datasets import load_iris\n",
    "from sklearn.model_selection import cross_val_score"
   ]
  },
  {
   "cell_type": "code",
   "execution_count": 8,
   "id": "9e6985ff",
   "metadata": {},
   "outputs": [],
   "source": [
    "X, y = load_iris(return_X_y=True)\n",
    "dc = DummyClassifier(strategy='stratified')"
   ]
  },
  {
   "cell_type": "code",
   "execution_count": 9,
   "id": "61bdfb63",
   "metadata": {},
   "outputs": [
    {
     "data": {
      "text/plain": [
       "array([0.38, 0.28, 0.3 ])"
      ]
     },
     "execution_count": 9,
     "metadata": {},
     "output_type": "execute_result"
    }
   ],
   "source": [
    "cross_val_score(dc, X, y, cv=3)"
   ]
  },
  {
   "cell_type": "code",
   "execution_count": 10,
   "id": "08c11050",
   "metadata": {},
   "outputs": [
    {
     "data": {
      "text/plain": [
       "0.3"
      ]
     },
     "execution_count": 10,
     "metadata": {},
     "output_type": "execute_result"
    }
   ],
   "source": [
    "cross_val_score(dc, X, y, cv=3).mean()"
   ]
  }
 ],
 "metadata": {
  "kernelspec": {
   "display_name": "Python 3 (ipykernel)",
   "language": "python",
   "name": "python3"
  },
  "language_info": {
   "codemirror_mode": {
    "name": "ipython",
    "version": 3
   },
   "file_extension": ".py",
   "mimetype": "text/x-python",
   "name": "python",
   "nbconvert_exporter": "python",
   "pygments_lexer": "ipython3",
   "version": "3.9.5"
  }
 },
 "nbformat": 4,
 "nbformat_minor": 5
}